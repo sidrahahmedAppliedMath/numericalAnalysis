{
  "nbformat": 4,
  "nbformat_minor": 0,
  "metadata": {
    "colab": {
      "provenance": [],
      "include_colab_link": true
    },
    "kernelspec": {
      "name": "python3",
      "display_name": "Python 3"
    },
    "language_info": {
      "name": "python"
    }
  },
  "cells": [
    {
      "cell_type": "markdown",
      "metadata": {
        "id": "view-in-github",
        "colab_type": "text"
      },
      "source": [
        "<a href=\"https://colab.research.google.com/github/sidrahahmedAppliedMath/numericalAnalysis/blob/main/BVP-FD-TDA.ipynb\" target=\"_parent\"><img src=\"https://colab.research.google.com/assets/colab-badge.svg\" alt=\"Open In Colab\"/></a>"
      ]
    },
    {
      "cell_type": "code",
      "execution_count": 10,
      "metadata": {
        "colab": {
          "base_uri": "https://localhost:8080/"
        },
        "id": "q6GL6P2pW39u",
        "outputId": "a05f3b68-20a0-4c9f-a153-49452f5aaa81"
      },
      "outputs": [
        {
          "output_type": "stream",
          "name": "stdout",
          "text": [
            "[1.09260052 1.18704313 1.28333687 1.38140205 1.48112026 1.5823599\n",
            " 1.68498902 1.78888175 1.8939211 ]\n"
          ]
        }
      ],
      "source": [
        "import numpy as np\n",
        "\n",
        "\n",
        "m=9\n",
        "h = 1/(m+1)\n",
        "x1 = np.linspace(1,2,m+2)\n",
        "def p(x):\n",
        "  return -2/x\n",
        "def q(x):\n",
        "  return 2/x**2\n",
        "def r(x):\n",
        "  return np.sin(np.log(x))/x**2\n",
        "a1 = -1-(h/2)*p(x1[1:m+1])\n",
        "b = 2 + h**2*q(x1[1:m+1])\n",
        "c1 = -1+(h/2)*p(x1[1:m+1])\n",
        "d = -h**2*r(x1[1:-1])\n",
        "a = np.delete(a1,[0])\n",
        "c = np.delete(c1,[m-1])\n",
        "d[0] = d[0] + (1+(h/2)*p(x1[1]))\n",
        "d[m-1] = d[m-1] + (1-(h/2)*p(x1[m]))*2\n",
        "def TDMA(a,b,c,d):\n",
        "    n = len(d)\n",
        "    w= np.zeros(n-1,float)\n",
        "    g= np.zeros(n, float)\n",
        "    p = np.zeros(n,float)\n",
        "\n",
        "    w[0] = c[0]/b[0]\n",
        "    g[0] = d[0]/b[0]\n",
        "\n",
        "    for i in range(1,n-1):\n",
        "        w[i] = c[i]/(b[i] - a[i-1]*w[i-1])\n",
        "    for i in range(1,n):\n",
        "        g[i] = (d[i] - a[i-1]*g[i-1])/(b[i] - a[i-1]*w[i-1])\n",
        "    p[n-1] = g[n-1]\n",
        "    for i in range(n-1,0,-1):\n",
        "        p[i-1] = g[i-1] - w[i-1]*p[i]\n",
        "    return p\n",
        "ans = TDMA(a,b,c,d)\n",
        "print(ans)\n"
      ]
    },
    {
      "cell_type": "code",
      "source": [],
      "metadata": {
        "id": "LoRoccvT3yjX"
      },
      "execution_count": null,
      "outputs": []
    }
  ]
}