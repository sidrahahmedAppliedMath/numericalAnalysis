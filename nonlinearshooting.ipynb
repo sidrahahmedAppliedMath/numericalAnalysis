{
  "nbformat": 4,
  "nbformat_minor": 0,
  "metadata": {
    "colab": {
      "provenance": [],
      "authorship_tag": "ABX9TyO00/B15OjPXtM2E45IkoZL",
      "include_colab_link": true
    },
    "kernelspec": {
      "name": "python3",
      "display_name": "Python 3"
    },
    "language_info": {
      "name": "python"
    }
  },
  "cells": [
    {
      "cell_type": "markdown",
      "metadata": {
        "id": "view-in-github",
        "colab_type": "text"
      },
      "source": [
        "<a href=\"https://colab.research.google.com/github/sidrahahmedAppliedMath/numericalAnalysis/blob/main/nonlinearshooting.ipynb\" target=\"_parent\"><img src=\"https://colab.research.google.com/assets/colab-badge.svg\" alt=\"Open In Colab\"/></a>"
      ]
    },
    {
      "cell_type": "code",
      "execution_count": 31,
      "metadata": {
        "colab": {
          "base_uri": "https://localhost:8080/",
          "height": 483
        },
        "id": "5kK7-poj4F2j",
        "outputId": "601b74c5-337a-4347-c0e4-f29aabdcb986"
      },
      "outputs": [
        {
          "output_type": "stream",
          "name": "stdout",
          "text": [
            "[17.    16.703 16.408 16.117 15.832 15.554 15.285 15.027 14.784 14.557\n",
            " 14.35 ]\n"
          ]
        },
        {
          "output_type": "execute_result",
          "data": {
            "text/plain": [
              "[<matplotlib.lines.Line2D at 0x7b3c6063a710>]"
            ]
          },
          "metadata": {},
          "execution_count": 31
        },
        {
          "output_type": "display_data",
          "data": {
            "text/plain": [
              "<Figure size 640x480 with 1 Axes>"
            ],
            "image/png": "[encoded data removed]"
          },
          "metadata": {}
        }
      ],
      "source": [
        "from  numpy import*\n",
        "from matplotlib import*\n",
        "\n",
        "\n",
        "def rk4(f1,f2,g1, g2 ,a, b, N, alpha,guess):\n",
        "  h = (b - a) / N\n",
        "  t = a\n",
        "  ansfory = [alpha]\n",
        "  ansforyp = [0]\n",
        "  w1 = alpha  #this is y(a)\n",
        "  w2 = guess   #this is y'(a)\n",
        "  z1 = 0  # this is z at a\n",
        "  z2 = 1   # this is z' at a\n",
        "\n",
        "\n",
        "  for i in range(1, N + 1):\n",
        "      K11 = h * f1( w2)\n",
        "      K21 = h * f2(t, w1,w2)\n",
        "      K12 = h * f1( w2 + K21 / 2)\n",
        "      K22 = h * f2( t+h/2, w1 + K11 / 2, w2 + K21/2)\n",
        "      K13 = h * f1( w2 + K22 / 2)\n",
        "      K23 = h * f2(t + h / 2, w1 + K12 / 2, w2 +K22/2)\n",
        "      K14 = h * f1( w2 + K23)\n",
        "      k24 = h * f2(t + h, w1 + K13, w2 + K23)\n",
        "\n",
        "      w1 = w1 + (K11 + 2 * K12 + 2 * K13 + K14) / 6\n",
        "      ansfory.append(w1)\n",
        "\n",
        "      K11p = h * g1(z2)\n",
        "      K21p = h * g2(w1,w2,z1,z2)\n",
        "      K12p = h * g1( z2 + K21 / 2)\n",
        "      K22p = h * g2( w1 + K11 / 2, w2 + K21/2, z1 + K11p/2, z2 + K21p/2)\n",
        "      K13p = h * g1( z2 + K22p / 2)\n",
        "      K23p = h * g2(w1 + K12 / 2, w2 +K22/2, z1 + K12p/2, z2 + K22p/2)\n",
        "      K14p = h * g1( z2 + K23p)\n",
        "      K24p = h * g2(w1 + K13, w2 + K23, z1 + K13p, z2 + K23p)\n",
        "\n",
        "      z1 = z1 + (K11p + 2 * K12p + 2 * K13p + K14p) / 6\n",
        "      ansforyp.append(z1)\n",
        "\n",
        "      t = a + i * h  # (Compute ti.)\n",
        "\n",
        "\n",
        "\n",
        "  return ansfory, ansforyp  # get y and z for all points ti\n",
        "\n",
        "\n",
        "\n",
        "\n",
        "\n",
        "# Usage\n",
        "\n",
        "# Define f1 and f2 for y''\n",
        "def f1(yp):\n",
        "  return yp\n",
        "def f2(t, y, yp):\n",
        "  return (32+2*t**3 - y*yp)/8\n",
        "\n",
        "  # Define g1 and g2 for z''\n",
        "def g1(zp):\n",
        "  return zp\n",
        "def g2(y, yp,z, zp):\n",
        "  return -(yp*z + y*zp)/8\n",
        "\n",
        "a = 1\n",
        "b = 3\n",
        "N = int(10)\n",
        "alpha = 17\n",
        "beta = 43/3\n",
        "h = (b-a)/N\n",
        "k = 1\n",
        "guess = (beta - alpha)/(b-a)\n",
        "M=5\n",
        "tol = 1e-4\n",
        "while k<= M:\n",
        " values = rk4(f1, f2, g1, g2, a, b, N, alpha, guess)\n",
        " if (values[0][N]-beta)<=tol:\n",
        "  break\n",
        " else:\n",
        "  guess = guess - (values[0][N]-beta)/values[1][N]\n",
        "  k = k+1\n",
        "print(around(values[0],decimals = 3))\n",
        "pyplot.plot(values[0])"
      ]
    }
  ]
}